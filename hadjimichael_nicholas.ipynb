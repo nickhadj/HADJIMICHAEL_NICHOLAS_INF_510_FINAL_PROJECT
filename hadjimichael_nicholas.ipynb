{
 "cells": [
  {
   "cell_type": "markdown",
   "metadata": {},
   "source": [
    "### INF 510 Fall 2019 Final Project Submission"
   ]
  },
  {
   "cell_type": "markdown",
   "metadata": {},
   "source": [
    "1. Team members: Nicholas Hadjimichael"
   ]
  },
  {
   "cell_type": "markdown",
   "metadata": {},
   "source": [
    "2. Simple to run the code from M2, just necessitates running the main file and choosing source local or remote. For the analysis, it is done in ArcGIS Pro, the background, details, and results of which are found in the document HADJIMICHAEL_NICHOLAS_INF_510_FINAL_RESULTS.pdf. You need sqlite3, argparse, requests, csv, and Beautiful Soup. You can access the files from https://github.com/nickhadj/HADJIMICHAEL_NICHOLAS_INF_510_FINAL_PROJECT.git.\n"
   ]
  },
  {
   "cell_type": "markdown",
   "metadata": {},
   "source": [
    "3. Major gotcha is the fact that there is a temporary token for use of ArcGIS Pro. Other one is that the well scraping is slow… it can take from 20 min to 50 min, usually closer to 20, depending on the processing speed of the computer.\n"
   ]
  },
  {
   "cell_type": "markdown",
   "metadata": {},
   "source": [
    "4. As mentioned in my emails, I apologize for the delay in submitting this. As you know I suffer from a debilitating health issue, the complications of which were triggered this week and made it necessary for me to prioritize my health. I have worked really hard this semester to read everything, do the work, and be proactive. I am really excited about what I was able to achieve in this class and especially through this project. I wanted to make sure I finished the project I promised because I think it shows that there is really strong application for Python to be more integrated into Public Policy work, especially environmental health work. I have even included Python already in other projects, using it to pre-process and clean (fits in 9 pages of a pdf, which I’m happy to share) Michigan education data for use in a Synthetic Control Method study of the Flint Water Crisis. ",
    "\n"
   ]
  },
  {
   "cell_type": "markdown",
   "metadata": {},
   "source": [
    "5. What did you set out to study?\n",
    "I have an ongoing study that intends to determine the potential improvement in environmental health equity that would arise from LA County implementing a 2,500ft setback requirement for oil and gas wells (meaning any new wells or existing active wells will not be permitted). Specifically, the decision to implement requires an analysis of the necessary managed decline in production that would result from setting this requirement as well as an identification of the communities that will be the beneficiaries of such a policy change. This identification would be twofold: firstly, which communities would benefit and secondly, would these beneficiaries be those disadvantaged communities with high pollution burden. In order to supplement this study, in this project, I collected and joined information that will inform the latter identification analysis. Originally, I was going to limit focus only on Census Tracts in the City of Los Angeles. However, because of difficulties with having a scraper work on the cite, I decided to actually run a mini version of my own study. In order to do so, I found data on the locations of LA County schools, which represent sensitive land use that would fall under the protections of the setback requirement. I found this data on California School Campus Database: \n",
    "http://www.californiaschoolcampusdatabase.org/#download, using their API. I also got spatial data on the Environmental Justice Screening Method (EJSM) (in the form of polygon attribute fields), and well data. For the analysis portion of this project, I combined these datasets using python script to be uploaded into ArcGIS Pro to run an analysis following this two-step identification. Originally, I had hoped to be able to run this entirely in Python, but the analysis portion was too advanced to do so given my skillset in Python and access. More information on this can be found in the accompanying document HADJIMICHAEL_NICHOLAS_INF_510_FINAL_RESULTS.pdf. Essentially the analysis is to create buffers around the wells, then determine which schools fall inside and outside of those buffers (which represent areas affected by air pollution). Then, the schools are determined to either be in disadvantaged or non-disadvantaged areas based on their cumulative impact EJSM score (the higher the score, the more environmental and social stressors. disadvantaged represent the top 25 percent of census tracts with the highest scores)."
   ]
  },
  {
   "cell_type": "markdown",
   "metadata": {},
   "source": [
    "6. What did you Discover/what were your conclusions (i.e. what were your findings? Were your original assumptions confirmed, etc.?) \n",
    "I did not have any strong assumptions to start with, but a loose one in that schools within buffers were more likely to be in disadvantaged areas, which is not to say that all buffers fall in disadvantaged areas. Rather, that disadvantaged areas are lower resourced and have less community power to prevent wells from being built in their communities. Additionally, I thought that more disadvantaged areas and schools would benefit from the setback requirement. In the end, this was not necessarily shown to be the case. Only 442 of 2,070 schools in LA County that were within buffers were in disadvantaged census tracts."
   ]
  },
  {
   "cell_type": "markdown",
   "metadata": {},
   "source": [
    "7. What difficulties did you have in completing the project? \n",
    "Please refer to 3 and 4. "
   ]
  },
  {
   "cell_type": "markdown",
   "metadata": {},
   "source": [
    "8. What skills did you wish you had while you were doing the project?  ",
    "I wish I had the skills to do more advanced GIS and Python with GIS. Whole courses are taught on the subject so now that I have the preprocessing skills, I’d love to have the analysis skills."
   ]
  },
  {
   "cell_type": "markdown",
   "metadata": {},
   "source": [
    "9. What would you do “next” to expand or augment the project?  ",
    "I could expand to other counties in California. I could also bring in other sensitive land use, for example bringing in state land use data (which includes hospitals and residential areas that are also protected by the setback requirement). I could also do a study to track patterns of new wells over time. The main thing would be to get more knowledge of what tools are available to help answer more interesting questions."
   ]
  },
  {
   "cell_type": "code",
   "execution_count": null,
   "metadata": {},
   "outputs": [],
   "source": []
  }
 ],
 "metadata": {
  "kernelspec": {
   "display_name": "Python 3",
   "language": "python",
   "name": "python3"
  },
  "language_info": {
   "codemirror_mode": {
    "name": "ipython",
    "version": 3
   },
   "file_extension": ".py",
   "mimetype": "text/x-python",
   "name": "python",
   "nbconvert_exporter": "python",
   "pygments_lexer": "ipython3",
   "version": "3.7.3"
  }
 },
 "nbformat": 4,
 "nbformat_minor": 2
}
