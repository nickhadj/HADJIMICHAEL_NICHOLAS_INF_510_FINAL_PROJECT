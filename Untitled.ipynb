{
 "cells": [
  {
   "cell_type": "code",
   "execution_count": 5,
   "metadata": {},
   "outputs": [
    {
     "name": "stdout",
     "output_type": "stream",
     "text": [
      "https://services1.arcgis.com/4ZKi1B1zTblbwgWB/ArcGIS/rest/services/California_School_Campus_Database_2018(CSCD)/FeatureServer/0/query?outFields=*&where=1%3D1&f=json&token=Rrq6Yg6ZSnfVG_LZveElYLKpVABIK1F89odExYw7hmscO3T29Tla0wifV6bn3HNqc3ozZ1F2EoP5Dss4MVSX3PTkcASkScvkVdMyertDRxPNCFnmFSGmHIV5SUpo1Znxaap4zCIG2sV7u2TNq5wr5q5sjnjBbcTkf3iTbxdq4VSxsIAjOlsvS5V18MCf72Qtsayr4rIQ-uorBUJ2gCedFDzhXB9gg3GFI0opqyX3gUs. was successfully retrieved with status code 200\n",
      "{'error': {'code': 400, 'message': 'Invalid URL', 'details': ['Invalid URL']}}\n"
     ]
    },
    {
     "ename": "KeyError",
     "evalue": "'features'",
     "output_type": "error",
     "traceback": [
      "\u001b[0;31m---------------------------------------------------------------------------\u001b[0m",
      "\u001b[0;31mKeyError\u001b[0m                                  Traceback (most recent call last)",
      "\u001b[0;32m<ipython-input-5-1c68ecc288be>\u001b[0m in \u001b[0;36m<module>\u001b[0;34m\u001b[0m\n\u001b[1;32m     14\u001b[0m     \u001b[0mcal_school_centroids\u001b[0m \u001b[0;34m=\u001b[0m \u001b[0mcal_ed\u001b[0m\u001b[0;34m.\u001b[0m\u001b[0mjson\u001b[0m\u001b[0;34m(\u001b[0m\u001b[0;34m)\u001b[0m\u001b[0;34m\u001b[0m\u001b[0;34m\u001b[0m\u001b[0m\n\u001b[1;32m     15\u001b[0m     \u001b[0mprint\u001b[0m\u001b[0;34m(\u001b[0m\u001b[0mcal_school_centroids\u001b[0m\u001b[0;34m)\u001b[0m\u001b[0;34m\u001b[0m\u001b[0;34m\u001b[0m\u001b[0m\n\u001b[0;32m---> 16\u001b[0;31m     \u001b[0mprint\u001b[0m\u001b[0;34m(\u001b[0m\u001b[0;34mf\"Retrieved {len(cal_school_centroids['features'])} records.\"\u001b[0m\u001b[0;34m)\u001b[0m\u001b[0;34m\u001b[0m\u001b[0;34m\u001b[0m\u001b[0m\n\u001b[0m\u001b[1;32m     17\u001b[0m     \u001b[0med_records\u001b[0m\u001b[0;34m.\u001b[0m\u001b[0mextend\u001b[0m\u001b[0;34m(\u001b[0m\u001b[0mcal_school_centroids\u001b[0m\u001b[0;34m[\u001b[0m\u001b[0;34m'features'\u001b[0m\u001b[0;34m]\u001b[0m\u001b[0;34m)\u001b[0m\u001b[0;34m\u001b[0m\u001b[0;34m\u001b[0m\u001b[0m\n",
      "\u001b[0;31mKeyError\u001b[0m: 'features'"
     ]
    }
   ],
   "source": [
    "import requests\n",
    "url = 'https://services1.arcgis.com/4ZKi1B1zTblbwgWB/ArcGIS/rest/services/California_School_Campus_Database_2018(CSCD)/FeatureServer/0/query?outFields=*&where=1%3D1'\n",
    "html_response = requests.get(url)\n",
    "ed_records = list()\n",
    "get_params = {\n",
    "'f': 'json','token': 'Rrq6Yg6ZSnfVG_LZveElYLKpVABIK1F89odExYw7hmscO3T29Tla0wifV6bn3HNqc3ozZ1F2EoP5Dss4MVSX3PTkcASkScvkVdMyertDRxPNCFnmFSGmHIV5SUpo1Znxaap4zCIG2sV7u2TNq5wr5q5sjnjBbcTkf3iTbxdq4VSxsIAjOlsvS5V18MCf72Qtsayr4rIQ-uorBUJ2gCedFDzhXB9gg3GFI0opqyX3gUs.'          }\n",
    "try:\n",
    "    cal_ed = requests.get(url, params=get_params)\n",
    "    cal_ed.raise_for_status()\n",
    "except requests.exceptions.HTTPError as e:\n",
    "    print(e)\n",
    "else:\n",
    "    print(f'{cal_ed.url} was successfully retrieved with status code {cal_ed.status_code}')\n",
    "    cal_school_centroids = cal_ed.json()\n",
    "    print(cal_school_centroids)\n",
    "    print(f\"Retrieved {len(cal_school_centroids['features'])} records.\")\n",
    "    ed_records.extend(cal_school_centroids['features'])"
   ]
  },
  {
   "cell_type": "code",
   "execution_count": null,
   "metadata": {},
   "outputs": [],
   "source": []
  },
  {
   "cell_type": "code",
   "execution_count": null,
   "metadata": {},
   "outputs": [],
   "source": []
  }
 ],
 "metadata": {
  "kernelspec": {
   "display_name": "Python 3",
   "language": "python",
   "name": "python3"
  },
  "language_info": {
   "codemirror_mode": {
    "name": "ipython",
    "version": 3
   },
   "file_extension": ".py",
   "mimetype": "text/x-python",
   "name": "python",
   "nbconvert_exporter": "python",
   "pygments_lexer": "ipython3",
   "version": "3.7.3"
  }
 },
 "nbformat": 4,
 "nbformat_minor": 2
}
